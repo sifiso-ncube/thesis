{
  "nbformat": 4,
  "nbformat_minor": 0,
  "metadata": {
    "colab": {
      "name": "SWMM_ExtrCode.ipynb",
      "provenance": [],
      "collapsed_sections": [],
      "authorship_tag": "ABX9TyO6HM00zE5GPO4DKe1oPehV",
      "include_colab_link": true
    },
    "kernelspec": {
      "name": "python3",
      "display_name": "Python 3"
    },
    "language_info": {
      "name": "python"
    }
  },
  "cells": [
    {
      "cell_type": "markdown",
      "metadata": {
        "id": "view-in-github",
        "colab_type": "text"
      },
      "source": [
        "<a href=\"https://colab.research.google.com/github/sifiso-ncube/thesis/blob/main/SWMM_ExtrCode.ipynb\" target=\"_parent\"><img src=\"https://colab.research.google.com/assets/colab-badge.svg\" alt=\"Open In Colab\"/></a>"
      ]
    },
    {
      "cell_type": "code",
      "execution_count": 1,
      "metadata": {
        "colab": {
          "base_uri": "https://localhost:8080/"
        },
        "id": "Sv3-2lr35V4x",
        "outputId": "a41682ef-d833-4f27-f0d7-8b8679dbd9e7"
      },
      "outputs": [
        {
          "output_type": "stream",
          "name": "stdout",
          "text": [
            "Collecting pyswmm\n",
            "  Downloading pyswmm-1.1.1-py3-none-any.whl (95 kB)\n",
            "\u001b[?25l\r\u001b[K     |███▍                            | 10 kB 16.3 MB/s eta 0:00:01\r\u001b[K     |██████▉                         | 20 kB 13.5 MB/s eta 0:00:01\r\u001b[K     |██████████▎                     | 30 kB 10.0 MB/s eta 0:00:01\r\u001b[K     |█████████████▊                  | 40 kB 4.5 MB/s eta 0:00:01\r\u001b[K     |█████████████████               | 51 kB 4.3 MB/s eta 0:00:01\r\u001b[K     |████████████████████▌           | 61 kB 5.1 MB/s eta 0:00:01\r\u001b[K     |████████████████████████        | 71 kB 5.8 MB/s eta 0:00:01\r\u001b[K     |███████████████████████████▍    | 81 kB 5.4 MB/s eta 0:00:01\r\u001b[K     |██████████████████████████████▊ | 92 kB 6.0 MB/s eta 0:00:01\r\u001b[K     |████████████████████████████████| 95 kB 2.7 MB/s \n",
            "\u001b[?25hCollecting julian==0.14\n",
            "  Downloading julian-0.14.zip (2.8 kB)\n",
            "Collecting swmm-toolkit==0.8.2\n",
            "  Downloading swmm_toolkit-0.8.2-cp37-cp37m-manylinux_2_17_x86_64.manylinux2014_x86_64.whl (457 kB)\n",
            "\u001b[K     |████████████████████████████████| 457 kB 31.5 MB/s \n",
            "\u001b[?25hCollecting aenum==2.2.6\n",
            "  Downloading aenum-2.2.6-py3-none-any.whl (43 kB)\n",
            "\u001b[K     |████████████████████████████████| 43 kB 1.6 MB/s \n",
            "\u001b[?25hBuilding wheels for collected packages: julian\n",
            "  Building wheel for julian (setup.py) ... \u001b[?25l\u001b[?25hdone\n",
            "  Created wheel for julian: filename=julian-0.14-py3-none-any.whl size=2633 sha256=df9590e50d652cf8c1c32edc00009a43493d624951fca820e3a9d168d8c5adb9\n",
            "  Stored in directory: /root/.cache/pip/wheels/bb/58/2a/4109ff5870c163b26a499fb8b828ede50e96264571a4f082d3\n",
            "Successfully built julian\n",
            "Installing collected packages: aenum, swmm-toolkit, julian, pyswmm\n",
            "Successfully installed aenum-2.2.6 julian-0.14 pyswmm-1.1.1 swmm-toolkit-0.8.2\n"
          ]
        }
      ],
      "source": [
        "pip install pyswmm\n"
      ]
    },
    {
      "cell_type": "code",
      "source": [
        "from pyswmm import  Output, Simulation, Subcatchments, Links, Nodes, RainGages\n",
        "from swmm.toolkit.shared_enum import LinkAttribute, SubcatchAttribute, NodeAttribute\n",
        "from datetime import datetime\n",
        "import matplotlib.pyplot as plt\n",
        "import numpy as np\n"
      ],
      "metadata": {
        "id": "8a2zKf2X8C80"
      },
      "execution_count": 2,
      "outputs": []
    },
    {
      "cell_type": "markdown",
      "source": [
        "**SUBCATCHMENTS**\n"
      ],
      "metadata": {
        "id": "KZESRSoEiAQC"
      }
    },
    {
      "cell_type": "code",
      "source": [
        "# Number of subcatchments\n",
        "def Ex_nmbr_subcatchments():\n",
        "  with Output('15.10.1realday.out') as out:\n",
        "    number_of_subcmts = len(out.subcatchments)\n",
        "    return number_of_subcmts\n",
        "\n",
        "print(\"The number of subcatchments is: \", Ex_nmbr_subcatchments())\n"
      ],
      "metadata": {
        "colab": {
          "base_uri": "https://localhost:8080/",
          "height": 358
        },
        "id": "aCPs2yzE6jLI",
        "outputId": "dbd3d21a-af03-4a6d-831d-d061118ec59a"
      },
      "execution_count": 3,
      "outputs": [
        {
          "output_type": "error",
          "ename": "Exception",
          "evalue": "ignored",
          "traceback": [
            "\u001b[0;31m---------------------------------------------------------------------------\u001b[0m",
            "\u001b[0;31mException\u001b[0m                                 Traceback (most recent call last)",
            "\u001b[0;32m<ipython-input-3-9977d42bcce2>\u001b[0m in \u001b[0;36m<module>\u001b[0;34m()\u001b[0m\n\u001b[1;32m      5\u001b[0m     \u001b[0;32mreturn\u001b[0m \u001b[0mnumber_of_subcmts\u001b[0m\u001b[0;34m\u001b[0m\u001b[0;34m\u001b[0m\u001b[0m\n\u001b[1;32m      6\u001b[0m \u001b[0;34m\u001b[0m\u001b[0m\n\u001b[0;32m----> 7\u001b[0;31m \u001b[0mprint\u001b[0m\u001b[0;34m(\u001b[0m\u001b[0;34m\"The number of subcatchments is: \"\u001b[0m\u001b[0;34m,\u001b[0m \u001b[0mEx_nmbr_subcatchments\u001b[0m\u001b[0;34m(\u001b[0m\u001b[0;34m)\u001b[0m\u001b[0;34m)\u001b[0m\u001b[0;34m\u001b[0m\u001b[0;34m\u001b[0m\u001b[0m\n\u001b[0m",
            "\u001b[0;32m<ipython-input-3-9977d42bcce2>\u001b[0m in \u001b[0;36mEx_nmbr_subcatchments\u001b[0;34m()\u001b[0m\n\u001b[1;32m      1\u001b[0m \u001b[0;31m# Number of subcatchments\u001b[0m\u001b[0;34m\u001b[0m\u001b[0;34m\u001b[0m\u001b[0;34m\u001b[0m\u001b[0m\n\u001b[1;32m      2\u001b[0m \u001b[0;32mdef\u001b[0m \u001b[0mEx_nmbr_subcatchments\u001b[0m\u001b[0;34m(\u001b[0m\u001b[0;34m)\u001b[0m\u001b[0;34m:\u001b[0m\u001b[0;34m\u001b[0m\u001b[0;34m\u001b[0m\u001b[0m\n\u001b[0;32m----> 3\u001b[0;31m   \u001b[0;32mwith\u001b[0m \u001b[0mOutput\u001b[0m\u001b[0;34m(\u001b[0m\u001b[0;34m'15.10.1realday.out'\u001b[0m\u001b[0;34m)\u001b[0m \u001b[0;32mas\u001b[0m \u001b[0mout\u001b[0m\u001b[0;34m:\u001b[0m\u001b[0;34m\u001b[0m\u001b[0;34m\u001b[0m\u001b[0m\n\u001b[0m\u001b[1;32m      4\u001b[0m     \u001b[0mnumber_of_subcmts\u001b[0m \u001b[0;34m=\u001b[0m \u001b[0mlen\u001b[0m\u001b[0;34m(\u001b[0m\u001b[0mout\u001b[0m\u001b[0;34m.\u001b[0m\u001b[0msubcatchments\u001b[0m\u001b[0;34m)\u001b[0m\u001b[0;34m\u001b[0m\u001b[0;34m\u001b[0m\u001b[0m\n\u001b[1;32m      5\u001b[0m     \u001b[0;32mreturn\u001b[0m \u001b[0mnumber_of_subcmts\u001b[0m\u001b[0;34m\u001b[0m\u001b[0;34m\u001b[0m\u001b[0m\n",
            "\u001b[0;32m/usr/local/lib/python3.7/dist-packages/pyswmm/output.py\u001b[0m in \u001b[0;36m__enter__\u001b[0;34m(self)\u001b[0m\n\u001b[1;32m    201\u001b[0m     \u001b[0;31m# method used for context manager with statement\u001b[0m\u001b[0;34m\u001b[0m\u001b[0;34m\u001b[0m\u001b[0;34m\u001b[0m\u001b[0m\n\u001b[1;32m    202\u001b[0m     \u001b[0;32mdef\u001b[0m \u001b[0m__enter__\u001b[0m\u001b[0;34m(\u001b[0m\u001b[0mself\u001b[0m\u001b[0;34m)\u001b[0m\u001b[0;34m:\u001b[0m\u001b[0;34m\u001b[0m\u001b[0;34m\u001b[0m\u001b[0m\n\u001b[0;32m--> 203\u001b[0;31m         \u001b[0mself\u001b[0m\u001b[0;34m.\u001b[0m\u001b[0mopen\u001b[0m\u001b[0;34m(\u001b[0m\u001b[0;34m)\u001b[0m\u001b[0;34m\u001b[0m\u001b[0;34m\u001b[0m\u001b[0m\n\u001b[0m\u001b[1;32m    204\u001b[0m         \u001b[0;32mreturn\u001b[0m \u001b[0mself\u001b[0m\u001b[0;34m\u001b[0m\u001b[0;34m\u001b[0m\u001b[0m\n\u001b[1;32m    205\u001b[0m \u001b[0;34m\u001b[0m\u001b[0m\n",
            "\u001b[0;32m/usr/local/lib/python3.7/dist-packages/pyswmm/output.py\u001b[0m in \u001b[0;36mopen\u001b[0;34m(self)\u001b[0m\n\u001b[1;32m    176\u001b[0m         \u001b[0;32mif\u001b[0m \u001b[0;32mnot\u001b[0m \u001b[0mself\u001b[0m\u001b[0;34m.\u001b[0m\u001b[0mloaded\u001b[0m\u001b[0;34m:\u001b[0m\u001b[0;34m\u001b[0m\u001b[0;34m\u001b[0m\u001b[0m\n\u001b[1;32m    177\u001b[0m             \u001b[0mself\u001b[0m\u001b[0;34m.\u001b[0m\u001b[0mloaded\u001b[0m \u001b[0;34m=\u001b[0m \u001b[0;32mTrue\u001b[0m\u001b[0;34m\u001b[0m\u001b[0;34m\u001b[0m\u001b[0m\n\u001b[0;32m--> 178\u001b[0;31m             \u001b[0moutput\u001b[0m\u001b[0;34m.\u001b[0m\u001b[0mopen\u001b[0m\u001b[0;34m(\u001b[0m\u001b[0mself\u001b[0m\u001b[0;34m.\u001b[0m\u001b[0mhandle\u001b[0m\u001b[0;34m,\u001b[0m \u001b[0mself\u001b[0m\u001b[0;34m.\u001b[0m\u001b[0mbinfile\u001b[0m\u001b[0;34m)\u001b[0m\u001b[0;34m\u001b[0m\u001b[0;34m\u001b[0m\u001b[0m\n\u001b[0m\u001b[1;32m    179\u001b[0m             \u001b[0mself\u001b[0m\u001b[0;34m.\u001b[0m\u001b[0mstart\u001b[0m \u001b[0;34m=\u001b[0m \u001b[0mfrom_jd\u001b[0m\u001b[0;34m(\u001b[0m\u001b[0moutput\u001b[0m\u001b[0;34m.\u001b[0m\u001b[0mget_start_date\u001b[0m\u001b[0;34m(\u001b[0m\u001b[0mself\u001b[0m\u001b[0;34m.\u001b[0m\u001b[0mhandle\u001b[0m\u001b[0;34m)\u001b[0m \u001b[0;34m+\u001b[0m \u001b[0;36m2415018.5\u001b[0m\u001b[0;34m)\u001b[0m\u001b[0;34m\u001b[0m\u001b[0;34m\u001b[0m\u001b[0m\n\u001b[1;32m    180\u001b[0m             \u001b[0mself\u001b[0m\u001b[0;34m.\u001b[0m\u001b[0mstart\u001b[0m \u001b[0;34m=\u001b[0m \u001b[0mself\u001b[0m\u001b[0;34m.\u001b[0m\u001b[0mstart\u001b[0m\u001b[0;34m.\u001b[0m\u001b[0mreplace\u001b[0m\u001b[0;34m(\u001b[0m\u001b[0mmicrosecond\u001b[0m\u001b[0;34m=\u001b[0m\u001b[0;36m0\u001b[0m\u001b[0;34m)\u001b[0m\u001b[0;34m\u001b[0m\u001b[0;34m\u001b[0m\u001b[0m\n",
            "\u001b[0;32m/usr/local/lib/python3.7/dist-packages/swmm/toolkit/output.py\u001b[0m in \u001b[0;36mopen\u001b[0;34m(p_handle, path)\u001b[0m\n\u001b[1;32m    106\u001b[0m \u001b[0;34m\u001b[0m\u001b[0m\n\u001b[1;32m    107\u001b[0m     \"\"\"\n\u001b[0;32m--> 108\u001b[0;31m     \u001b[0;32mreturn\u001b[0m \u001b[0m_output\u001b[0m\u001b[0;34m.\u001b[0m\u001b[0mopen\u001b[0m\u001b[0;34m(\u001b[0m\u001b[0mp_handle\u001b[0m\u001b[0;34m,\u001b[0m \u001b[0mpath\u001b[0m\u001b[0;34m)\u001b[0m\u001b[0;34m\u001b[0m\u001b[0;34m\u001b[0m\u001b[0m\n\u001b[0m\u001b[1;32m    109\u001b[0m \u001b[0;34m\u001b[0m\u001b[0m\n\u001b[1;32m    110\u001b[0m \u001b[0;32mdef\u001b[0m \u001b[0mget_version\u001b[0m\u001b[0;34m(\u001b[0m\u001b[0mp_handle\u001b[0m\u001b[0;34m:\u001b[0m \u001b[0;34m\"SMO_Handle\"\u001b[0m\u001b[0;34m)\u001b[0m \u001b[0;34m->\u001b[0m \u001b[0;34m\"int *\"\u001b[0m\u001b[0;34m:\u001b[0m\u001b[0;34m\u001b[0m\u001b[0;34m\u001b[0m\u001b[0m\n",
            "\u001b[0;31mException\u001b[0m: ERROR 440: an unspecified error has occurred"
          ]
        }
      ]
    },
    {
      "cell_type": "markdown",
      "source": [
        "**Subcatchment Names**"
      ],
      "metadata": {
        "id": "2x3HuceiqPDc"
      }
    },
    {
      "cell_type": "code",
      "source": [
        "def Ex_subcatchment_ids():\n",
        "  with Output('15.10.1realday.out') as out:\n",
        "    subctmts = out.subcatchments\n",
        "    return subctmts\n",
        "\n",
        "Ex_subcatchment_ids() "
      ],
      "metadata": {
        "id": "Saa4KKCxqYEX"
      },
      "execution_count": null,
      "outputs": []
    },
    {
      "cell_type": "markdown",
      "source": [
        "**Subcatchment Area**"
      ],
      "metadata": {
        "id": "lBEjRuFLqGpp"
      }
    },
    {
      "cell_type": "code",
      "source": [
        ""
      ],
      "metadata": {
        "id": "DRSH9vA3qNqs"
      },
      "execution_count": null,
      "outputs": []
    },
    {
      "cell_type": "code",
      "source": [
        "# subcatchment area\n",
        "\n",
        "\n"
      ],
      "metadata": {
        "id": "cazAPg3Gz1qt"
      },
      "execution_count": null,
      "outputs": []
    },
    {
      "cell_type": "markdown",
      "source": [
        "Get the rainfall for all subcatchments at a given time."
      ],
      "metadata": {
        "id": "tXRgj_7ykQ0Q"
      }
    },
    {
      "cell_type": "code",
      "source": [
        ""
      ],
      "metadata": {
        "id": "wQ3VsAOkkVLB"
      },
      "execution_count": null,
      "outputs": []
    },
    {
      "cell_type": "markdown",
      "source": [
        "Get the runoff rate for all subcatchments at a given time."
      ],
      "metadata": {
        "id": "6hIltETojsH8"
      }
    },
    {
      "cell_type": "code",
      "source": [
        ""
      ],
      "metadata": {
        "id": "0CxqIeytiKNs"
      },
      "execution_count": null,
      "outputs": []
    },
    {
      "cell_type": "markdown",
      "source": [
        "Get the snow depth for all subcatchments at a given time."
      ],
      "metadata": {
        "id": "r3SFToDCj-lx"
      }
    },
    {
      "cell_type": "code",
      "source": [
        ""
      ],
      "metadata": {
        "id": "azPWu_AWkKny"
      },
      "execution_count": null,
      "outputs": []
    },
    {
      "cell_type": "markdown",
      "source": [
        "Get the soil moisture for all subcatchments at a given time."
      ],
      "metadata": {
        "id": "ihZAjc4tkXeR"
      }
    },
    {
      "cell_type": "code",
      "source": [
        ""
      ],
      "metadata": {
        "id": "lIX4I5r9knjA"
      },
      "execution_count": null,
      "outputs": []
    },
    {
      "cell_type": "markdown",
      "source": [
        "Get all the attributes for a particular subcatchment at a given time"
      ],
      "metadata": {
        "id": "XjtBUY8qkp6n"
      }
    },
    {
      "cell_type": "code",
      "source": [
        ""
      ],
      "metadata": {
        "id": "fWQzDXNQlTJy"
      },
      "execution_count": null,
      "outputs": []
    },
    {
      "cell_type": "markdown",
      "source": [
        "**SUBCATCHMENT TIME SERIES FOR DIFFERENT ATTRIBUTE, FOR A SPECIFIED TIME FRAME**\n"
      ],
      "metadata": {
        "id": "knkfSD8tlUGa"
      }
    },
    {
      "cell_type": "markdown",
      "source": [
        "**Get Subcatchment Time Series for Rainfall**"
      ],
      "metadata": {
        "id": "FD8ePA8FlzaQ"
      }
    },
    {
      "cell_type": "code",
      "source": [
        ""
      ],
      "metadata": {
        "id": "QTxn8PGAnT_a"
      },
      "execution_count": null,
      "outputs": []
    },
    {
      "cell_type": "markdown",
      "source": [
        "**Get Subcatchment Time Series for Snow depth** (not applicable in our study area but could be useful elsewhere)"
      ],
      "metadata": {
        "id": "sG76RV4nnTPI"
      }
    },
    {
      "cell_type": "code",
      "source": [
        ""
      ],
      "metadata": {
        "id": "gPGwjKRtogQP"
      },
      "execution_count": null,
      "outputs": []
    },
    {
      "cell_type": "markdown",
      "source": [
        "**Get Subcatchment Time Series for Runoff Rate**"
      ],
      "metadata": {
        "id": "e88LOcfSog8g"
      }
    },
    {
      "cell_type": "code",
      "source": [
        ""
      ],
      "metadata": {
        "id": "ZU59O3zJo0uF"
      },
      "execution_count": null,
      "outputs": []
    },
    {
      "cell_type": "markdown",
      "source": [
        "**Get Subcatchment Time Series for Soil Moisture**"
      ],
      "metadata": {
        "id": "sIdMDe7Ro1h3"
      }
    },
    {
      "cell_type": "code",
      "source": [
        ""
      ],
      "metadata": {
        "id": "buniDjO-o_gf"
      },
      "execution_count": null,
      "outputs": []
    },
    {
      "cell_type": "markdown",
      "source": [
        "**NODES**"
      ],
      "metadata": {
        "id": "LVpGLxF60c5B"
      }
    },
    {
      "cell_type": "code",
      "source": [
        "# Number of Nodes\n",
        "def Ex_nmbr_nodes():\n",
        "  with Output('15.10.1realday.out') as out:\n",
        "    number_of_nodes = len(out.nodes)\n",
        "    return number_of_nodes\n",
        "\n",
        "print(\"The number of nodes is: \", Ex_nmbr_nodes())\n"
      ],
      "metadata": {
        "id": "AIlW7kvb7O6b"
      },
      "execution_count": null,
      "outputs": []
    },
    {
      "cell_type": "code",
      "source": [
        "# Nodes in the drainage network\n",
        "# returns a dictionary of model node names with their indices as values \n",
        "def Ex_node_names():\n",
        "  with Output('15.10.1realday.out') as out:\n",
        "    print(out.nodes)\n",
        "  \n",
        "Ex_node_names()"
      ],
      "metadata": {
        "id": "RYanEvLG0ptY"
      },
      "execution_count": null,
      "outputs": []
    },
    {
      "cell_type": "markdown",
      "source": [
        "**Node Attributes**\n",
        "-For all nodes at given time, get a particular attribute.\n",
        "-returns a dictionary of attribute values for all nodes at given timestep"
      ],
      "metadata": {
        "id": "FgLFuisLPBSV"
      }
    },
    {
      "cell_type": "code",
      "source": [
        "#Invert Depth\n",
        "#For all nodes at given time, get the invert depth.\n",
        "def Ex_invert_depth():\n",
        "  with Output('15.10.1realday.out') as out:\n",
        "      data = out.node_attribute(NodeAttribute.INVERT_DEPTH, datetime(2020, 10, 15, 21))\n",
        "      index_list= []\n",
        "      node_invdepth = []\n",
        "      for object in data:\n",
        "         if data[object]>0:\n",
        "            node_invdepth.append(data[object])       #data[object] gives the invert depth\n",
        "            index_list.append(object)                #the object is the node name \n",
        "         else:\n",
        "            pass       \n",
        "         print(object, data[object])\n",
        " ##no need to plot, make a table\n",
        "      \n",
        "Ex_invert_depth()"
      ],
      "metadata": {
        "id": "EtdPQdCG3h_a"
      },
      "execution_count": null,
      "outputs": []
    },
    {
      "cell_type": "code",
      "source": [
        "#Ponded Volume\n",
        "#For all nodes at given time, get the ponded volume.\n",
        "#returns a dictionary of attribute values for all nodes at given timestep\n",
        "def Ex_ponded_volume():\n",
        "  with Output('15.10.1realday.out') as out:\n",
        "      data = out.node_attribute(NodeAttribute.PONDED_VOLUME, datetime(2020, 10, 15, 21))\n",
        "      node_pondvol = []\n",
        "      index_list= []\n",
        "      non_ponded= []\n",
        "      for object in data:\n",
        "         if data[object]>0:                         # only those nodes which are flooded/ponded\n",
        "            node_pondvol.append(data[object])       #data[object] gives the ponded volume\n",
        "            index_list.append(object)                #the object is the node name \n",
        "         else:\n",
        "            non_ponded.append(object)       \n",
        "         #print(object, data[object])\n",
        "      print(\"These nodes are not flooded\", non_ponded)\n",
        "\n",
        "      \n",
        "      font = {'family': 'serif',\n",
        "        'color':  'darkred',\n",
        "        'weight': 'normal',\n",
        "        'size': 16,\n",
        "        }\n",
        "      plt.figure(figsize = [20, 6])\n",
        "      plt.bar(index_list, node_pondvol, label = '$Ponded Volume for the nodes $')\n",
        "      plt.xlabel(\"\\n Nodes \",fontdict = font)\n",
        "      plt.ylabel(\"\\n Ponded volume (m)\",fontdict = font)\n",
        "      plt.title(\"Ponded Volume \\n\",fontdict = font)\n",
        "      #plt.xticks(nodes, rotation ='vertical')\n",
        "      plt.legend()\n",
        "      plt.show()\n",
        "\n",
        "\n",
        "Ex_ponded_volume()"
      ],
      "metadata": {
        "id": "0cwq8-_3S290"
      },
      "execution_count": null,
      "outputs": []
    },
    {
      "cell_type": "code",
      "source": [
        "# Node Attributes\n",
        "#Gets all the attributes for a node at given time.\n",
        "#returns a dictionary of attributes for a node at given timestep\n",
        "\n",
        "def Ex_node_attributes():\n",
        "  with Output('15.10.1realday.out') as out:\n",
        "      data = out.node_result('N33-1', datetime(2020, 10, 15, 21))\n",
        "      index_list= []\n",
        "      node_attr = []\n",
        "      for object in data:\n",
        "         node_attr.append(data[object])       #data[object] gives the value\n",
        "         index_list.append(object)                #the object is the node attribute      \n",
        "         print(object, data[object])\n",
        " ## make a table\n",
        "      \n",
        "Ex_node_attributes()\n",
        "\n"
      ],
      "metadata": {
        "id": "fzsJhK0EbWVK"
      },
      "execution_count": null,
      "outputs": []
    },
    {
      "cell_type": "code",
      "source": [
        ""
      ],
      "metadata": {
        "id": "ZxhSFAXv3i-N"
      },
      "execution_count": null,
      "outputs": []
    },
    {
      "cell_type": "code",
      "source": [
        "#Hydraulic Head  (not sure we need this)\n",
        "#For all nodes at given time, get the Hydraulic head.\n",
        "#returns a dictionary of attribute values for all nodes at given timestep\n",
        "def Ex_hydraulic_head():\n",
        "  with Output('15.10.1realday.out') as out:\n",
        "      data = out.node_attribute(NodeAttribute.HYDRAULIC_HEAD, datetime(2020, 10, 16, 21))\n",
        "      node_hydhead = []\n",
        "      index_list= []\n",
        "      for object in data:\n",
        "         if data[object]>0:\n",
        "            node_hydhead.append(data[object])       #data[object] gives the hydraulic head\n",
        "            index_list.append(object)                #the object is the node name \n",
        "         else:\n",
        "            pass       \n",
        "         #print(object, data[object])\n",
        "      return (index_list, node_hydhead)\n",
        "      \n",
        "index_list, node_hydhead = Ex_hydraulic_head()\n",
        "\n",
        "font = {'family': 'serif',\n",
        "        'color':  'darkred',\n",
        "        'weight': 'normal',\n",
        "        'size': 16,\n",
        "        }\n",
        "plt.figure(figsize = [20, 6])\n",
        "plt.bar(index_list, node_hydhead, label = '$hydraulic head for the nodes $')\n",
        "plt.xlabel(\"\\n nodes \",fontdict = font)\n",
        "plt.ylabel(\"\\n Hydraulic head (m)\",fontdict = font)\n",
        "plt.title(\"Hydraulic Head \\n\",fontdict = font)\n",
        "#plt.xticks(nodes, rotation='vertical')\n",
        "plt.legend()\n",
        "plt.show()"
      ],
      "metadata": {
        "id": "9e9299Hw3hs_"
      },
      "execution_count": null,
      "outputs": []
    },
    {
      "cell_type": "markdown",
      "source": [
        "**Node time series results for particular attributes**"
      ],
      "metadata": {
        "id": "_uipZSQ54n-P"
      }
    },
    {
      "cell_type": "code",
      "source": [
        "#Node Time series for hydraulic head. you specify the start and end time\n",
        "# Returns a dictionary of attribute values with between start_index and end_index with reporting timesteps as keys\n",
        "def Ex_node_hydraulic_head():\n",
        "  with Output('15.10.1realday.out') as out:\n",
        "      ts = out.node_series('N33-1', NodeAttribute.HYDRAULIC_HEAD, datetime(2020, 10, 15, 12), datetime(2020, 10, 16, 12))\n",
        "      ts_node_hydhead = []\n",
        "      index_list= []\n",
        "\n",
        "      for index in ts:\n",
        "        ts_node_hydhead.append(ts[index])     #ts[index] gives the time series value of hydraulics head at node N33-1\n",
        "        index_list.append(index)                #the index is the node name\n",
        "        #print(index, ts[index])\n",
        "      \n",
        "      font = {'family': 'serif',\n",
        "        'color':  'darkred',\n",
        "        'weight': 'normal',\n",
        "        'size': 16,\n",
        "        }\n",
        "      plt.figure(figsize = [20, 6])\n",
        "      plt.plot(index_list, ts_node_hydhead, label = '$ hydraulic head for node N33-1 $')\n",
        "      plt.xlabel(\"\\n Nodes \",fontdict = font)\n",
        "      plt.ylabel(\"\\n Hydraulic head (m)\",fontdict = font)\n",
        "      plt.title(\"Hydraulic Head for Node N33-1 \\n\",fontdict = font)\n",
        "      #plt.xticks(nodes, rotation='vertical')\n",
        "      plt.legend()\n",
        "      plt.show()\n",
        "\n",
        "Ex_node_hydraulic_head()"
      ],
      "metadata": {
        "id": "_N5KBYEf4zOq"
      },
      "execution_count": null,
      "outputs": []
    },
    {
      "cell_type": "code",
      "source": [
        "#Node Time series for ponded volume. you specify the start and end time\n",
        "# Returns a dictionary of attribute values with between start_index and end_index with reporting timesteps as keys\n",
        "def Ex_node_pondedvol():\n",
        "  with Output('15.10.1realday.out') as out:\n",
        "      ts = out.node_series('N33-1', NodeAttribute.PONDED_VOLUME, datetime(2020, 10, 15, 12), datetime(2020, 10, 16, 12))\n",
        "      ts_node_pondedvol = []\n",
        "      index_list= []\n",
        "\n",
        "      for index in ts:\n",
        "        ts_node_pondedvol.append(ts[index])     #ts[index] gives the time series value of hydraulics head at node N33-1\n",
        "        index_list.append(index)                #the index is the node name\n",
        "      return ts_node_pondedvol,index_list \n",
        "           \n",
        "ts_node_pondedvol,index_list = Ex_node_pondedvol()\n",
        "\n",
        "font = {'family': 'serif',\n",
        "        'color':  'darkred',\n",
        "        'weight': 'normal',\n",
        "        'size': 16,\n",
        "        }\n",
        "plt.figure(figsize = [20, 6])\n",
        "plt.plot(index_list, ts_node_pondedvol, label = '$ Ponded volume for node N33-1 $')\n",
        "plt.xlabel(\"\\n Nodes \",fontdict = font)\n",
        "plt.ylabel(\"\\n ponded volume (CM)\",fontdict = font)\n",
        "plt.title(\"Ponded Volume for Node N33-1 \\n\",fontdict = font)\n",
        "#plt.xticks(nodes, rotation='vertical')\n",
        "plt.legend()\n",
        "plt.show()"
      ],
      "metadata": {
        "id": "B99i_JupAMHd"
      },
      "execution_count": null,
      "outputs": []
    },
    {
      "cell_type": "code",
      "source": [
        "\n"
      ],
      "metadata": {
        "id": "iLa6KLHYXPGq"
      },
      "execution_count": null,
      "outputs": []
    },
    {
      "cell_type": "markdown",
      "source": [
        "**LINKS**"
      ],
      "metadata": {
        "id": "GvQs5YvZA8_3"
      }
    },
    {
      "cell_type": "code",
      "source": [
        "# Number of Pipes/ links\n",
        "def Ex_nmbr_links():\n",
        "  with Output('15.10.1realday.out') as out:\n",
        "    number_of_links = len(out.links)\n",
        "    return number_of_links\n",
        "\n",
        "print(\"The number of links is: \", Ex_nmbr_links())"
      ],
      "metadata": {
        "id": "DHFMW-XL-u_T"
      },
      "execution_count": null,
      "outputs": []
    },
    {
      "cell_type": "code",
      "source": [
        "# Links in the drainage network\n",
        "# returns a dictionary of model link names with their indices as values \n",
        "def Ex_link_names():\n",
        "  with Output('15.10.1realday.out') as out:\n",
        "    print(out.links)\n",
        "  \n",
        "Ex_link_names()\n"
      ],
      "metadata": {
        "id": "y7AMlYR61GZL"
      },
      "execution_count": null,
      "outputs": []
    },
    {
      "cell_type": "code",
      "source": [
        "# Link Flow rate for all the links at a fixed time\n",
        "def Ex_flrate_links():\n",
        "  with Output('15.10.1realday.out') as out:\n",
        "      data = out.link_attribute(LinkAttribute.FLOW_RATE, datetime(2020, 10, 15, 21))      #chose this day bcoz its among the most wet days.\n",
        "      index_list= []\n",
        "      linkFl = []\n",
        "      for object in data:\n",
        "         #print(object, data[object])\n",
        "         if data[object]>0:\n",
        "            linkFl.append(data[object])       #data[object] gives the  value of flowrate at a link\n",
        "            index_list.append(object)           #the object is the link name \n",
        "         else:\n",
        "            pass       \n",
        "         \n",
        " \n",
        "      font = {'family': 'serif',\n",
        "        'color':  'darkred',\n",
        "        'weight': 'normal',\n",
        "        'size': 16,\n",
        "        }\n",
        "      plt.figure(figsize = [20, 6])\n",
        "      plt.bar(index_list, linkFl, label = '$flowrate in the links $')\n",
        "      plt.xlabel(\"\\n Links \",fontdict = font)\n",
        "      plt.ylabel(\"\\n Flow rate (CMS)\",fontdict = font)\n",
        "      plt.title(\"Flow Rate in Different Links \\n\",fontdict = font)\n",
        "      #plt.xticks(Links, rotation='vertical')\n",
        "      plt.legend()\n",
        "      plt.show()\n",
        "      \n",
        "\n",
        "Ex_flrate_links()\n"
      ],
      "metadata": {
        "id": "wjUst01TAivR"
      },
      "execution_count": null,
      "outputs": []
    },
    {
      "cell_type": "markdown",
      "source": [
        ""
      ],
      "metadata": {
        "id": "-cjqS-hpYet4"
      }
    },
    {
      "cell_type": "markdown",
      "source": [
        "**Time series for different link attributes**"
      ],
      "metadata": {
        "id": "-QqmP93BDRey"
      }
    },
    {
      "cell_type": "code",
      "source": [
        "\n",
        "#Link Flowrate for one link for a period of time\n",
        "def Ex_link_flowrate():\n",
        "  with Output('15.10.1realday.out') as out:\n",
        "     ts = out.link_series('LN31-5', LinkAttribute.FLOW_RATE, datetime(2020, 10, 15, 12), datetime(2020, 10, 16, 12))\n",
        "     index_list= []\n",
        "     ts_linkFl = []\n",
        "     for index in ts:\n",
        "       #print(index, ts[index])\n",
        "       ts_linkFl.append(ts[index])     #ts[index] gives the time series value of flowrate at link LN31-5\n",
        "       index_list.append(index)        #index is the datetime\n",
        "       #print(ts_linkFl)\n",
        "\n",
        "     font = {'family': 'serif',\n",
        "        'color':  'darkred',\n",
        "        'weight': 'normal',\n",
        "        'size': 16,\n",
        "        }\n",
        "     plt.figure(figsize = [15, 5])\n",
        "     plt.plot(index_list, ts_linkFl, '--b', label = '$flowrate in link LN31-5$')\n",
        "     plt.xlabel(\"\\n Time \",fontdict = font)\n",
        "     plt.ylabel(\"\\n Flow rate (CMS)\",fontdict = font)\n",
        "     plt.title(\"Flow Rate in Link LN31-5 \\n\",fontdict = font)\n",
        "     plt.legend()\n",
        "     plt.show()\n",
        "      #plt.plot (ts_linkFl)\n",
        "\n",
        "\n",
        "Ex_link_flowrate()\n"
      ],
      "metadata": {
        "id": "xzCKI9EHY7RR"
      },
      "execution_count": null,
      "outputs": []
    },
    {
      "cell_type": "code",
      "source": [
        ""
      ],
      "metadata": {
        "id": "tXM_oDAtRo8s"
      },
      "execution_count": null,
      "outputs": []
    },
    {
      "cell_type": "code",
      "source": [
        "#Link Velocity\n",
        "def Ex_link_flowvel():\n",
        "  with Output('15.10.1realday.out') as out:\n",
        "     ts = out.link_series('LN31-5', LinkAttribute.FLOW_VELOCITY, datetime(2020, 10, 15, 12), datetime(2020, 10, 16, 12))\n",
        "     index_list= []\n",
        "     ts_linkFl = []\n",
        "     for index in ts:\n",
        "       #print(index, ts[index])\n",
        "       ts_linkFl.append(ts[index])     #ts[index] gives the time series value of flowrate at link LN31-5\n",
        "       index_list.append(index)        #index is the datetime\n",
        "      \n",
        "\n",
        "     font = {'family': 'serif',\n",
        "        'color':  'darkred',\n",
        "        'weight': 'normal',\n",
        "        'size': 16,\n",
        "        }\n",
        "     plt.figure(figsize = [15, 5])\n",
        "     plt.plot(index_list, ts_linkFl, '--b', label = '$flow velocity in link LN31-5$')\n",
        "     plt.xlabel(\"\\n Time \",fontdict = font)\n",
        "     plt.ylabel(\"\\n Flow velocity (m/s)\",fontdict = font)\n",
        "     plt.title(\"Flow Velocity in Link LN31-5 \\n\",fontdict = font)\n",
        "     plt.legend()\n",
        "     plt.show()\n",
        "      #plt.plot (ts_linkFl)\n",
        "\n",
        "\n",
        "Ex_link_flowvel()"
      ],
      "metadata": {
        "id": "zmxayQl1J1-Z"
      },
      "execution_count": null,
      "outputs": []
    }
  ]
}